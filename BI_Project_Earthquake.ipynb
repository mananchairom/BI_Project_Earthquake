{
  "nbformat": 4,
  "nbformat_minor": 0,
  "metadata": {
    "colab": {
      "name": "BI_Project_Earthquake.ipynb",
      "provenance": []
    },
    "kernelspec": {
      "name": "python3",
      "display_name": "Python 3"
    }
  },
  "cells": [
    {
      "cell_type": "code",
      "metadata": {
        "id": "SzO1SlNzFtfp",
        "colab_type": "code",
        "colab": {
          "base_uri": "https://localhost:8080/",
          "height": 34
        },
        "outputId": "69eae76c-3ca8-412e-d069-c83a02a68189"
      },
      "source": [
        "from google.colab import drive\n",
        "drive.mount('/content/drive')"
      ],
      "execution_count": null,
      "outputs": [
        {
          "output_type": "stream",
          "text": [
            "Drive already mounted at /content/drive; to attempt to forcibly remount, call drive.mount(\"/content/drive\", force_remount=True).\n"
          ],
          "name": "stdout"
        }
      ]
    },
    {
      "cell_type": "code",
      "metadata": {
        "id": "61I8-zh8GDwu",
        "colab_type": "code",
        "colab": {
          "base_uri": "https://localhost:8080/",
          "height": 51
        },
        "outputId": "fcac7b0e-ec05-4540-ec7d-91992c91d91f"
      },
      "source": [
        "!ls /content/drive/My\\ Drive/BI_DataProject"
      ],
      "execution_count": null,
      "outputs": [
        {
          "output_type": "stream",
          "text": [
            " 2565541.csv   'Japan earthquakes 2001 - 2018.csv'      jpy1.csv\n",
            " database.csv  'Japan earthquakes 2001 - 2018.gsheet'   jpy.xlsx\n"
          ],
          "name": "stdout"
        }
      ]
    },
    {
      "cell_type": "code",
      "metadata": {
        "id": "f1rcela1GJgE",
        "colab_type": "code",
        "colab": {}
      },
      "source": [
        "path = '/content/drive/My Drive/BI_DataProject'"
      ],
      "execution_count": null,
      "outputs": []
    },
    {
      "cell_type": "code",
      "metadata": {
        "id": "TSk3Dy5HGPAc",
        "colab_type": "code",
        "colab": {}
      },
      "source": [
        "import pandas as pd\n",
        "import numpy as np\n",
        "import matplotlib.pyplot as plt"
      ],
      "execution_count": null,
      "outputs": []
    },
    {
      "cell_type": "code",
      "metadata": {
        "id": "g6qX6Dq3NEud",
        "colab_type": "code",
        "colab": {
          "base_uri": "https://localhost:8080/",
          "height": 970
        },
        "outputId": "a430d04b-5d7d-4fe4-e0af-d2cd8d136855"
      },
      "source": [
        "!apt-get install libgeos-3.5.0\n",
        "!apt-get install libgeos-dev\n",
        "!pip install https://github.com/matplotlib/basemap/archive/master.zip"
      ],
      "execution_count": null,
      "outputs": [
        {
          "output_type": "stream",
          "text": [
            "Reading package lists... Done\n",
            "Building dependency tree       \n",
            "Reading state information... Done\n",
            "E: Unable to locate package libgeos-3.5.0\n",
            "E: Couldn't find any package by glob 'libgeos-3.5.0'\n",
            "E: Couldn't find any package by regex 'libgeos-3.5.0'\n",
            "Reading package lists... Done\n",
            "Building dependency tree       \n",
            "Reading state information... Done\n",
            "Suggested packages:\n",
            "  libgdal-doc\n",
            "The following NEW packages will be installed:\n",
            "  libgeos-dev\n",
            "0 upgraded, 1 newly installed, 0 to remove and 25 not upgraded.\n",
            "Need to get 73.1 kB of archives.\n",
            "After this operation, 486 kB of additional disk space will be used.\n",
            "Get:1 http://archive.ubuntu.com/ubuntu bionic/universe amd64 libgeos-dev amd64 3.6.2-1build2 [73.1 kB]\n",
            "Fetched 73.1 kB in 0s (187 kB/s)\n",
            "Selecting previously unselected package libgeos-dev.\n",
            "(Reading database ... 134448 files and directories currently installed.)\n",
            "Preparing to unpack .../libgeos-dev_3.6.2-1build2_amd64.deb ...\n",
            "Unpacking libgeos-dev (3.6.2-1build2) ...\n",
            "Setting up libgeos-dev (3.6.2-1build2) ...\n",
            "Processing triggers for man-db (2.8.3-2ubuntu0.1) ...\n",
            "Collecting https://github.com/matplotlib/basemap/archive/master.zip\n",
            "\u001b[?25l  Downloading https://github.com/matplotlib/basemap/archive/master.zip (133.1MB)\n",
            "\u001b[K     |████████████████████████████████| 133.1MB 74kB/s \n",
            "\u001b[?25hRequirement already satisfied: matplotlib!=3.0.1,>=1.0.0 in /usr/local/lib/python3.6/dist-packages (from basemap==1.2.1) (3.1.3)\n",
            "Requirement already satisfied: numpy>=1.2.1 in /usr/local/lib/python3.6/dist-packages (from basemap==1.2.1) (1.17.5)\n",
            "Collecting pyproj>=1.9.3\n",
            "\u001b[?25l  Downloading https://files.pythonhosted.org/packages/77/15/d93f446d253d26b91553f86cf21049183e9b0f51f8c8e6cb2cff081bcc02/pyproj-2.5.0-cp36-cp36m-manylinux2010_x86_64.whl (10.4MB)\n",
            "\u001b[K     |████████████████████████████████| 10.4MB 2.9MB/s \n",
            "\u001b[?25hCollecting pyshp>=1.2.0\n",
            "\u001b[?25l  Downloading https://files.pythonhosted.org/packages/27/16/3bf15aa864fb77845fab8007eda22c2bd67bd6c1fd13496df452c8c43621/pyshp-2.1.0.tar.gz (215kB)\n",
            "\u001b[K     |████████████████████████████████| 225kB 54.3MB/s \n",
            "\u001b[?25hRequirement already satisfied: six in /usr/local/lib/python3.6/dist-packages (from basemap==1.2.1) (1.12.0)\n",
            "Requirement already satisfied: python-dateutil>=2.1 in /usr/local/lib/python3.6/dist-packages (from matplotlib!=3.0.1,>=1.0.0->basemap==1.2.1) (2.6.1)\n",
            "Requirement already satisfied: cycler>=0.10 in /usr/local/lib/python3.6/dist-packages (from matplotlib!=3.0.1,>=1.0.0->basemap==1.2.1) (0.10.0)\n",
            "Requirement already satisfied: kiwisolver>=1.0.1 in /usr/local/lib/python3.6/dist-packages (from matplotlib!=3.0.1,>=1.0.0->basemap==1.2.1) (1.1.0)\n",
            "Requirement already satisfied: pyparsing!=2.0.4,!=2.1.2,!=2.1.6,>=2.0.1 in /usr/local/lib/python3.6/dist-packages (from matplotlib!=3.0.1,>=1.0.0->basemap==1.2.1) (2.4.6)\n",
            "Requirement already satisfied: setuptools in /usr/local/lib/python3.6/dist-packages (from kiwisolver>=1.0.1->matplotlib!=3.0.1,>=1.0.0->basemap==1.2.1) (45.2.0)\n",
            "Building wheels for collected packages: basemap, pyshp\n",
            "  Building wheel for basemap (setup.py) ... \u001b[?25l\u001b[?25hdone\n",
            "  Created wheel for basemap: filename=basemap-1.2.1-cp36-cp36m-linux_x86_64.whl size=121756031 sha256=4c3fff936339e37c10c0b302ddf2b3e2085a98c80d0ddf75f6ea2176beb1fdf2\n",
            "  Stored in directory: /tmp/pip-ephem-wheel-cache-hpgl7fq_/wheels/98/4a/fc/ce719b75d97e646645c225f3332b1b217536100314922e9572\n",
            "  Building wheel for pyshp (setup.py) ... \u001b[?25l\u001b[?25hdone\n",
            "  Created wheel for pyshp: filename=pyshp-2.1.0-cp36-none-any.whl size=32609 sha256=413e8bfc690b0a79e10038abe1686bf0ae60c8e308de15761b597bacdde2cd8b\n",
            "  Stored in directory: /root/.cache/pip/wheels/a6/0c/de/321b5192ad416b328975a2f0385f72c64db4656501eba7cc1a\n",
            "Successfully built basemap pyshp\n",
            "Installing collected packages: pyproj, pyshp, basemap\n",
            "Successfully installed basemap-1.2.1 pyproj-2.5.0 pyshp-2.1.0\n"
          ],
          "name": "stdout"
        },
        {
          "output_type": "display_data",
          "data": {
            "application/vnd.colab-display-data+json": {
              "pip_warning": {
                "packages": [
                  "mpl_toolkits"
                ]
              }
            }
          },
          "metadata": {
            "tags": []
          }
        }
      ]
    },
    {
      "cell_type": "code",
      "metadata": {
        "id": "cTeqpnRFNG6W",
        "colab_type": "code",
        "colab": {
          "base_uri": "https://localhost:8080/",
          "height": 238
        },
        "outputId": "874e35ff-8dd7-4e62-909c-c6309fcd151c"
      },
      "source": [
        "!pip install pyproj==1.9.6"
      ],
      "execution_count": null,
      "outputs": [
        {
          "output_type": "stream",
          "text": [
            "Collecting pyproj==1.9.6\n",
            "\u001b[?25l  Downloading https://files.pythonhosted.org/packages/26/8c/1da0580f334718e04f8bbf74f0515a7fb8185ff96b2560ce080c11aa145b/pyproj-1.9.6.tar.gz (2.8MB)\n",
            "\u001b[K     |████████████████████████████████| 2.8MB 2.9MB/s \n",
            "\u001b[?25hBuilding wheels for collected packages: pyproj\n",
            "  Building wheel for pyproj (setup.py) ... \u001b[?25l\u001b[?25hdone\n",
            "  Created wheel for pyproj: filename=pyproj-1.9.6-cp36-cp36m-linux_x86_64.whl size=3702063 sha256=34c80ee04dd9363c486f3f27e1f2565602415fa1e67f9e2e94f94c2dc11cdd5a\n",
            "  Stored in directory: /root/.cache/pip/wheels/02/cd/b1/a2d6430f74c7a778a43d62f78bec109ca69c732dc9b929142a\n",
            "Successfully built pyproj\n",
            "Installing collected packages: pyproj\n",
            "  Found existing installation: pyproj 2.5.0\n",
            "    Uninstalling pyproj-2.5.0:\n",
            "      Successfully uninstalled pyproj-2.5.0\n",
            "Successfully installed pyproj-1.9.6\n"
          ],
          "name": "stdout"
        }
      ]
    },
    {
      "cell_type": "code",
      "metadata": {
        "id": "fTk5vfvsNIMk",
        "colab_type": "code",
        "colab": {}
      },
      "source": [
        "from mpl_toolkits.basemap import Basemap\n",
        "import matplotlib.pyplot as plt\n",
        "%matplotlib inline"
      ],
      "execution_count": null,
      "outputs": []
    },
    {
      "cell_type": "code",
      "metadata": {
        "id": "VvLRJKjQLwGC",
        "colab_type": "code",
        "colab": {}
      },
      "source": [
        "import importlib\n",
        "mpl_toolkits = importlib.import_module('mpl_toolkits')\n",
        "from mpl_toolkits.basemap import Basemap"
      ],
      "execution_count": null,
      "outputs": []
    },
    {
      "cell_type": "code",
      "metadata": {
        "id": "HwbBwpeLGStm",
        "colab_type": "code",
        "colab": {
          "base_uri": "https://localhost:8080/",
          "height": 238
        },
        "outputId": "14294243-ae4b-4357-b192-dc3db4f598d8"
      },
      "source": [
        "dataframe = pd.read_csv(path + '/database.csv')\n",
        "dataframe.head()"
      ],
      "execution_count": null,
      "outputs": [
        {
          "output_type": "execute_result",
          "data": {
            "text/html": [
              "<div>\n",
              "<style scoped>\n",
              "    .dataframe tbody tr th:only-of-type {\n",
              "        vertical-align: middle;\n",
              "    }\n",
              "\n",
              "    .dataframe tbody tr th {\n",
              "        vertical-align: top;\n",
              "    }\n",
              "\n",
              "    .dataframe thead th {\n",
              "        text-align: right;\n",
              "    }\n",
              "</style>\n",
              "<table border=\"1\" class=\"dataframe\">\n",
              "  <thead>\n",
              "    <tr style=\"text-align: right;\">\n",
              "      <th></th>\n",
              "      <th>Date</th>\n",
              "      <th>Time</th>\n",
              "      <th>Latitude</th>\n",
              "      <th>Longitude</th>\n",
              "      <th>Type</th>\n",
              "      <th>Depth</th>\n",
              "      <th>Depth Error</th>\n",
              "      <th>Depth Seismic Stations</th>\n",
              "      <th>Magnitude</th>\n",
              "      <th>Magnitude Type</th>\n",
              "      <th>Magnitude Error</th>\n",
              "      <th>Magnitude Seismic Stations</th>\n",
              "      <th>Azimuthal Gap</th>\n",
              "      <th>Horizontal Distance</th>\n",
              "      <th>Horizontal Error</th>\n",
              "      <th>Root Mean Square</th>\n",
              "      <th>ID</th>\n",
              "      <th>Source</th>\n",
              "      <th>Location Source</th>\n",
              "      <th>Magnitude Source</th>\n",
              "      <th>Status</th>\n",
              "    </tr>\n",
              "  </thead>\n",
              "  <tbody>\n",
              "    <tr>\n",
              "      <th>0</th>\n",
              "      <td>01/02/1965</td>\n",
              "      <td>13:44:18</td>\n",
              "      <td>19.246</td>\n",
              "      <td>145.616</td>\n",
              "      <td>Earthquake</td>\n",
              "      <td>131.6</td>\n",
              "      <td>NaN</td>\n",
              "      <td>NaN</td>\n",
              "      <td>6.0</td>\n",
              "      <td>MW</td>\n",
              "      <td>NaN</td>\n",
              "      <td>NaN</td>\n",
              "      <td>NaN</td>\n",
              "      <td>NaN</td>\n",
              "      <td>NaN</td>\n",
              "      <td>NaN</td>\n",
              "      <td>ISCGEM860706</td>\n",
              "      <td>ISCGEM</td>\n",
              "      <td>ISCGEM</td>\n",
              "      <td>ISCGEM</td>\n",
              "      <td>Automatic</td>\n",
              "    </tr>\n",
              "    <tr>\n",
              "      <th>1</th>\n",
              "      <td>01/04/1965</td>\n",
              "      <td>11:29:49</td>\n",
              "      <td>1.863</td>\n",
              "      <td>127.352</td>\n",
              "      <td>Earthquake</td>\n",
              "      <td>80.0</td>\n",
              "      <td>NaN</td>\n",
              "      <td>NaN</td>\n",
              "      <td>5.8</td>\n",
              "      <td>MW</td>\n",
              "      <td>NaN</td>\n",
              "      <td>NaN</td>\n",
              "      <td>NaN</td>\n",
              "      <td>NaN</td>\n",
              "      <td>NaN</td>\n",
              "      <td>NaN</td>\n",
              "      <td>ISCGEM860737</td>\n",
              "      <td>ISCGEM</td>\n",
              "      <td>ISCGEM</td>\n",
              "      <td>ISCGEM</td>\n",
              "      <td>Automatic</td>\n",
              "    </tr>\n",
              "    <tr>\n",
              "      <th>2</th>\n",
              "      <td>01/05/1965</td>\n",
              "      <td>18:05:58</td>\n",
              "      <td>-20.579</td>\n",
              "      <td>-173.972</td>\n",
              "      <td>Earthquake</td>\n",
              "      <td>20.0</td>\n",
              "      <td>NaN</td>\n",
              "      <td>NaN</td>\n",
              "      <td>6.2</td>\n",
              "      <td>MW</td>\n",
              "      <td>NaN</td>\n",
              "      <td>NaN</td>\n",
              "      <td>NaN</td>\n",
              "      <td>NaN</td>\n",
              "      <td>NaN</td>\n",
              "      <td>NaN</td>\n",
              "      <td>ISCGEM860762</td>\n",
              "      <td>ISCGEM</td>\n",
              "      <td>ISCGEM</td>\n",
              "      <td>ISCGEM</td>\n",
              "      <td>Automatic</td>\n",
              "    </tr>\n",
              "    <tr>\n",
              "      <th>3</th>\n",
              "      <td>01/08/1965</td>\n",
              "      <td>18:49:43</td>\n",
              "      <td>-59.076</td>\n",
              "      <td>-23.557</td>\n",
              "      <td>Earthquake</td>\n",
              "      <td>15.0</td>\n",
              "      <td>NaN</td>\n",
              "      <td>NaN</td>\n",
              "      <td>5.8</td>\n",
              "      <td>MW</td>\n",
              "      <td>NaN</td>\n",
              "      <td>NaN</td>\n",
              "      <td>NaN</td>\n",
              "      <td>NaN</td>\n",
              "      <td>NaN</td>\n",
              "      <td>NaN</td>\n",
              "      <td>ISCGEM860856</td>\n",
              "      <td>ISCGEM</td>\n",
              "      <td>ISCGEM</td>\n",
              "      <td>ISCGEM</td>\n",
              "      <td>Automatic</td>\n",
              "    </tr>\n",
              "    <tr>\n",
              "      <th>4</th>\n",
              "      <td>01/09/1965</td>\n",
              "      <td>13:32:50</td>\n",
              "      <td>11.938</td>\n",
              "      <td>126.427</td>\n",
              "      <td>Earthquake</td>\n",
              "      <td>15.0</td>\n",
              "      <td>NaN</td>\n",
              "      <td>NaN</td>\n",
              "      <td>5.8</td>\n",
              "      <td>MW</td>\n",
              "      <td>NaN</td>\n",
              "      <td>NaN</td>\n",
              "      <td>NaN</td>\n",
              "      <td>NaN</td>\n",
              "      <td>NaN</td>\n",
              "      <td>NaN</td>\n",
              "      <td>ISCGEM860890</td>\n",
              "      <td>ISCGEM</td>\n",
              "      <td>ISCGEM</td>\n",
              "      <td>ISCGEM</td>\n",
              "      <td>Automatic</td>\n",
              "    </tr>\n",
              "  </tbody>\n",
              "</table>\n",
              "</div>"
            ],
            "text/plain": [
              "         Date      Time  Latitude  ...  Location Source Magnitude Source     Status\n",
              "0  01/02/1965  13:44:18    19.246  ...           ISCGEM           ISCGEM  Automatic\n",
              "1  01/04/1965  11:29:49     1.863  ...           ISCGEM           ISCGEM  Automatic\n",
              "2  01/05/1965  18:05:58   -20.579  ...           ISCGEM           ISCGEM  Automatic\n",
              "3  01/08/1965  18:49:43   -59.076  ...           ISCGEM           ISCGEM  Automatic\n",
              "4  01/09/1965  13:32:50    11.938  ...           ISCGEM           ISCGEM  Automatic\n",
              "\n",
              "[5 rows x 21 columns]"
            ]
          },
          "metadata": {
            "tags": []
          },
          "execution_count": 10
        }
      ]
    },
    {
      "cell_type": "code",
      "metadata": {
        "id": "3l88ajYSGgoz",
        "colab_type": "code",
        "colab": {
          "base_uri": "https://localhost:8080/",
          "height": 119
        },
        "outputId": "3ee724b5-2b51-4a2e-afab-bc82ea8e0694"
      },
      "source": [
        "dataframe.columns"
      ],
      "execution_count": null,
      "outputs": [
        {
          "output_type": "execute_result",
          "data": {
            "text/plain": [
              "Index(['Date', 'Time', 'Latitude', 'Longitude', 'Type', 'Depth', 'Depth Error',\n",
              "       'Depth Seismic Stations', 'Magnitude', 'Magnitude Type',\n",
              "       'Magnitude Error', 'Magnitude Seismic Stations', 'Azimuthal Gap',\n",
              "       'Horizontal Distance', 'Horizontal Error', 'Root Mean Square', 'ID',\n",
              "       'Source', 'Location Source', 'Magnitude Source', 'Status'],\n",
              "      dtype='object')"
            ]
          },
          "metadata": {
            "tags": []
          },
          "execution_count": 11
        }
      ]
    },
    {
      "cell_type": "code",
      "metadata": {
        "id": "366VlGPhGrB0",
        "colab_type": "code",
        "colab": {
          "base_uri": "https://localhost:8080/",
          "height": 204
        },
        "outputId": "34c5a297-217d-49e7-e1fd-792f49135665"
      },
      "source": [
        "dataframe = dataframe[['Date', 'Time', 'Latitude', 'Longitude', 'Depth', 'Magnitude']]\n",
        "dataframe.head()"
      ],
      "execution_count": null,
      "outputs": [
        {
          "output_type": "execute_result",
          "data": {
            "text/html": [
              "<div>\n",
              "<style scoped>\n",
              "    .dataframe tbody tr th:only-of-type {\n",
              "        vertical-align: middle;\n",
              "    }\n",
              "\n",
              "    .dataframe tbody tr th {\n",
              "        vertical-align: top;\n",
              "    }\n",
              "\n",
              "    .dataframe thead th {\n",
              "        text-align: right;\n",
              "    }\n",
              "</style>\n",
              "<table border=\"1\" class=\"dataframe\">\n",
              "  <thead>\n",
              "    <tr style=\"text-align: right;\">\n",
              "      <th></th>\n",
              "      <th>Date</th>\n",
              "      <th>Time</th>\n",
              "      <th>Latitude</th>\n",
              "      <th>Longitude</th>\n",
              "      <th>Depth</th>\n",
              "      <th>Magnitude</th>\n",
              "    </tr>\n",
              "  </thead>\n",
              "  <tbody>\n",
              "    <tr>\n",
              "      <th>0</th>\n",
              "      <td>01/02/1965</td>\n",
              "      <td>13:44:18</td>\n",
              "      <td>19.246</td>\n",
              "      <td>145.616</td>\n",
              "      <td>131.6</td>\n",
              "      <td>6.0</td>\n",
              "    </tr>\n",
              "    <tr>\n",
              "      <th>1</th>\n",
              "      <td>01/04/1965</td>\n",
              "      <td>11:29:49</td>\n",
              "      <td>1.863</td>\n",
              "      <td>127.352</td>\n",
              "      <td>80.0</td>\n",
              "      <td>5.8</td>\n",
              "    </tr>\n",
              "    <tr>\n",
              "      <th>2</th>\n",
              "      <td>01/05/1965</td>\n",
              "      <td>18:05:58</td>\n",
              "      <td>-20.579</td>\n",
              "      <td>-173.972</td>\n",
              "      <td>20.0</td>\n",
              "      <td>6.2</td>\n",
              "    </tr>\n",
              "    <tr>\n",
              "      <th>3</th>\n",
              "      <td>01/08/1965</td>\n",
              "      <td>18:49:43</td>\n",
              "      <td>-59.076</td>\n",
              "      <td>-23.557</td>\n",
              "      <td>15.0</td>\n",
              "      <td>5.8</td>\n",
              "    </tr>\n",
              "    <tr>\n",
              "      <th>4</th>\n",
              "      <td>01/09/1965</td>\n",
              "      <td>13:32:50</td>\n",
              "      <td>11.938</td>\n",
              "      <td>126.427</td>\n",
              "      <td>15.0</td>\n",
              "      <td>5.8</td>\n",
              "    </tr>\n",
              "  </tbody>\n",
              "</table>\n",
              "</div>"
            ],
            "text/plain": [
              "         Date      Time  Latitude  Longitude  Depth  Magnitude\n",
              "0  01/02/1965  13:44:18    19.246    145.616  131.6        6.0\n",
              "1  01/04/1965  11:29:49     1.863    127.352   80.0        5.8\n",
              "2  01/05/1965  18:05:58   -20.579   -173.972   20.0        6.2\n",
              "3  01/08/1965  18:49:43   -59.076    -23.557   15.0        5.8\n",
              "4  01/09/1965  13:32:50    11.938    126.427   15.0        5.8"
            ]
          },
          "metadata": {
            "tags": []
          },
          "execution_count": 12
        }
      ]
    },
    {
      "cell_type": "code",
      "metadata": {
        "id": "_Vy1MLS0GwqL",
        "colab_type": "code",
        "colab": {}
      },
      "source": [
        "import datetime\n",
        "import time\n",
        "\n",
        "timestamp = []\n",
        "for d, t in zip(dataframe['Date'], dataframe['Time']):\n",
        "    try:\n",
        "        ts = datetime.datetime.strptime(d+' '+t, '%m/%d/%Y %H:%M:%S')\n",
        "        timestamp.append(time.mktime(ts.timetuple()))\n",
        "    except ValueError:\n",
        "        # print('ValueError')\n",
        "        timestamp.append('ValueError')"
      ],
      "execution_count": null,
      "outputs": []
    },
    {
      "cell_type": "code",
      "metadata": {
        "id": "-qCzxzoNHIWa",
        "colab_type": "code",
        "colab": {}
      },
      "source": [
        "timeStamp = pd.Series(timestamp)\n",
        "dataframe['Timestamp'] = timeStamp.values"
      ],
      "execution_count": null,
      "outputs": []
    },
    {
      "cell_type": "code",
      "metadata": {
        "id": "zaHplVufHLhi",
        "colab_type": "code",
        "colab": {
          "base_uri": "https://localhost:8080/",
          "height": 419
        },
        "outputId": "41c07e70-7580-494c-ce8b-501a5df8c90f"
      },
      "source": [
        "final_data = dataframe.drop(['Date', 'Time'], axis=1)\n",
        "final_data = final_data[final_data.Timestamp != 'ValueError']\n",
        "final_data"
      ],
      "execution_count": null,
      "outputs": [
        {
          "output_type": "execute_result",
          "data": {
            "text/html": [
              "<div>\n",
              "<style scoped>\n",
              "    .dataframe tbody tr th:only-of-type {\n",
              "        vertical-align: middle;\n",
              "    }\n",
              "\n",
              "    .dataframe tbody tr th {\n",
              "        vertical-align: top;\n",
              "    }\n",
              "\n",
              "    .dataframe thead th {\n",
              "        text-align: right;\n",
              "    }\n",
              "</style>\n",
              "<table border=\"1\" class=\"dataframe\">\n",
              "  <thead>\n",
              "    <tr style=\"text-align: right;\">\n",
              "      <th></th>\n",
              "      <th>Latitude</th>\n",
              "      <th>Longitude</th>\n",
              "      <th>Depth</th>\n",
              "      <th>Magnitude</th>\n",
              "      <th>Timestamp</th>\n",
              "    </tr>\n",
              "  </thead>\n",
              "  <tbody>\n",
              "    <tr>\n",
              "      <th>0</th>\n",
              "      <td>19.2460</td>\n",
              "      <td>145.6160</td>\n",
              "      <td>131.60</td>\n",
              "      <td>6.0</td>\n",
              "      <td>-1.57631e+08</td>\n",
              "    </tr>\n",
              "    <tr>\n",
              "      <th>1</th>\n",
              "      <td>1.8630</td>\n",
              "      <td>127.3520</td>\n",
              "      <td>80.00</td>\n",
              "      <td>5.8</td>\n",
              "      <td>-1.57466e+08</td>\n",
              "    </tr>\n",
              "    <tr>\n",
              "      <th>2</th>\n",
              "      <td>-20.5790</td>\n",
              "      <td>-173.9720</td>\n",
              "      <td>20.00</td>\n",
              "      <td>6.2</td>\n",
              "      <td>-1.57356e+08</td>\n",
              "    </tr>\n",
              "    <tr>\n",
              "      <th>3</th>\n",
              "      <td>-59.0760</td>\n",
              "      <td>-23.5570</td>\n",
              "      <td>15.00</td>\n",
              "      <td>5.8</td>\n",
              "      <td>-1.57094e+08</td>\n",
              "    </tr>\n",
              "    <tr>\n",
              "      <th>4</th>\n",
              "      <td>11.9380</td>\n",
              "      <td>126.4270</td>\n",
              "      <td>15.00</td>\n",
              "      <td>5.8</td>\n",
              "      <td>-1.57026e+08</td>\n",
              "    </tr>\n",
              "    <tr>\n",
              "      <th>...</th>\n",
              "      <td>...</td>\n",
              "      <td>...</td>\n",
              "      <td>...</td>\n",
              "      <td>...</td>\n",
              "      <td>...</td>\n",
              "    </tr>\n",
              "    <tr>\n",
              "      <th>23407</th>\n",
              "      <td>38.3917</td>\n",
              "      <td>-118.8941</td>\n",
              "      <td>12.30</td>\n",
              "      <td>5.6</td>\n",
              "      <td>1.48291e+09</td>\n",
              "    </tr>\n",
              "    <tr>\n",
              "      <th>23408</th>\n",
              "      <td>38.3777</td>\n",
              "      <td>-118.8957</td>\n",
              "      <td>8.80</td>\n",
              "      <td>5.5</td>\n",
              "      <td>1.48292e+09</td>\n",
              "    </tr>\n",
              "    <tr>\n",
              "      <th>23409</th>\n",
              "      <td>36.9179</td>\n",
              "      <td>140.4262</td>\n",
              "      <td>10.00</td>\n",
              "      <td>5.9</td>\n",
              "      <td>1.48293e+09</td>\n",
              "    </tr>\n",
              "    <tr>\n",
              "      <th>23410</th>\n",
              "      <td>-9.0283</td>\n",
              "      <td>118.6639</td>\n",
              "      <td>79.00</td>\n",
              "      <td>6.3</td>\n",
              "      <td>1.48305e+09</td>\n",
              "    </tr>\n",
              "    <tr>\n",
              "      <th>23411</th>\n",
              "      <td>37.3973</td>\n",
              "      <td>141.4103</td>\n",
              "      <td>11.94</td>\n",
              "      <td>5.5</td>\n",
              "      <td>1.48313e+09</td>\n",
              "    </tr>\n",
              "  </tbody>\n",
              "</table>\n",
              "<p>23409 rows × 5 columns</p>\n",
              "</div>"
            ],
            "text/plain": [
              "       Latitude  Longitude   Depth  Magnitude    Timestamp\n",
              "0       19.2460   145.6160  131.60        6.0 -1.57631e+08\n",
              "1        1.8630   127.3520   80.00        5.8 -1.57466e+08\n",
              "2      -20.5790  -173.9720   20.00        6.2 -1.57356e+08\n",
              "3      -59.0760   -23.5570   15.00        5.8 -1.57094e+08\n",
              "4       11.9380   126.4270   15.00        5.8 -1.57026e+08\n",
              "...         ...        ...     ...        ...          ...\n",
              "23407   38.3917  -118.8941   12.30        5.6  1.48291e+09\n",
              "23408   38.3777  -118.8957    8.80        5.5  1.48292e+09\n",
              "23409   36.9179   140.4262   10.00        5.9  1.48293e+09\n",
              "23410   -9.0283   118.6639   79.00        6.3  1.48305e+09\n",
              "23411   37.3973   141.4103   11.94        5.5  1.48313e+09\n",
              "\n",
              "[23409 rows x 5 columns]"
            ]
          },
          "metadata": {
            "tags": []
          },
          "execution_count": 15
        }
      ]
    },
    {
      "cell_type": "markdown",
      "metadata": {
        "id": "jkODD4NKT15C",
        "colab_type": "text"
      },
      "source": [
        "Visualization"
      ]
    },
    {
      "cell_type": "code",
      "metadata": {
        "id": "Loy4m7OJHTkS",
        "colab_type": "code",
        "colab": {
          "base_uri": "https://localhost:8080/",
          "height": 441
        },
        "outputId": "ebe16130-65ea-4b36-e17c-dfa65f183f45"
      },
      "source": [
        "m = Basemap(projection='mill',llcrnrlat=-80,urcrnrlat=80, llcrnrlon=-180,urcrnrlon=180,lat_ts=20,resolution='c')\n",
        "\n",
        "longitudes = dataframe[\"Longitude\"].tolist()\n",
        "latitudes = dataframe[\"Latitude\"].tolist()\n",
        "#m = Basemap(width=12000000,height=9000000,projection='lcc',\n",
        "            #resolution=None,lat_1=80.,lat_2=55,lat_0=80,lon_0=-107.)\n",
        "x,y = m(longitudes,latitudes)\n",
        "fig = plt.figure(figsize=(12,10))\n",
        "plt.title(\"All affected areas\",color = 'white')\n",
        "m.plot(x, y, \"o\", markersize = 2, color = 'blue')\n",
        "m.drawcoastlines()\n",
        "m.fillcontinents(color='coral',lake_color='aqua')\n",
        "m.drawmapboundary()\n",
        "m.drawcountries()\n",
        "plt.show()"
      ],
      "execution_count": null,
      "outputs": [
        {
          "output_type": "display_data",
          "data": {
            "image/png": "[encoded data removed]",
            "text/plain": [
              "<Figure size 864x720 with 1 Axes>"
            ]
          },
          "metadata": {
            "tags": []
          }
        }
      ]
    },
    {
      "cell_type": "markdown",
      "metadata": {
        "id": "M9kKgR7YTwl-",
        "colab_type": "text"
      },
      "source": [
        "Spitting Data\n",
        "\n"
      ]
    },
    {
      "cell_type": "code",
      "metadata": {
        "id": "0Wsg8jUbOqhZ",
        "colab_type": "code",
        "colab": {}
      },
      "source": [
        "X = final_data[['Timestamp', 'Latitude', 'Longitude']]\n",
        "y = final_data[['Magnitude', 'Depth']]"
      ],
      "execution_count": null,
      "outputs": []
    },
    {
      "cell_type": "code",
      "metadata": {
        "id": "NtQSf36YPSpb",
        "colab_type": "code",
        "colab": {
          "base_uri": "https://localhost:8080/",
          "height": 34
        },
        "outputId": "3d0d3a94-c214-4101-91b3-f64b9f44e4f1"
      },
      "source": [
        "#from sklearn.cross_validation import train_test_split\n",
        "from sklearn.model_selection import train_test_split\n",
        "\n",
        "X_train, X_test, y_train, y_test = train_test_split(X, y, test_size=0.2, random_state=42)\n",
        "print(X_train.shape, X_test.shape, y_train.shape, X_test.shape)"
      ],
      "execution_count": null,
      "outputs": [
        {
          "output_type": "stream",
          "text": [
            "(18727, 3) (4682, 3) (18727, 2) (4682, 3)\n"
          ],
          "name": "stdout"
        }
      ]
    },
    {
      "cell_type": "code",
      "metadata": {
        "id": "Zbp5CfuYQGlS",
        "colab_type": "code",
        "colab": {
          "base_uri": "https://localhost:8080/",
          "height": 136
        },
        "outputId": "df47bd78-2ec7-4ee4-fc62-5cd0e7512a3b"
      },
      "source": [
        "from sklearn.ensemble import RandomForestRegressor\n",
        "\n",
        "reg = RandomForestRegressor(random_state=42)\n",
        "reg.fit(X_train, y_train)\n",
        "reg.predict(X_test)"
      ],
      "execution_count": null,
      "outputs": [
        {
          "output_type": "execute_result",
          "data": {
            "text/plain": [
              "array([[  5.919 ,  40.798 ],\n",
              "       [  5.841 ,  34.2448],\n",
              "       [  6.058 ,  40.816 ],\n",
              "       ...,\n",
              "       [  6.331 ,  24.197 ],\n",
              "       [  5.951 , 594.561 ],\n",
              "       [  5.812 ,  37.    ]])"
            ]
          },
          "metadata": {
            "tags": []
          },
          "execution_count": 19
        }
      ]
    },
    {
      "cell_type": "code",
      "metadata": {
        "id": "9u72_VWKrW0j",
        "colab_type": "code",
        "colab": {
          "base_uri": "https://localhost:8080/",
          "height": 419
        },
        "outputId": "680b6037-31be-452e-a1ab-d1c3d23792ce"
      },
      "source": [
        "X_test"
      ],
      "execution_count": null,
      "outputs": [
        {
          "output_type": "execute_result",
          "data": {
            "text/html": [
              "<div>\n",
              "<style scoped>\n",
              "    .dataframe tbody tr th:only-of-type {\n",
              "        vertical-align: middle;\n",
              "    }\n",
              "\n",
              "    .dataframe tbody tr th {\n",
              "        vertical-align: top;\n",
              "    }\n",
              "\n",
              "    .dataframe thead th {\n",
              "        text-align: right;\n",
              "    }\n",
              "</style>\n",
              "<table border=\"1\" class=\"dataframe\">\n",
              "  <thead>\n",
              "    <tr style=\"text-align: right;\">\n",
              "      <th></th>\n",
              "      <th>Timestamp</th>\n",
              "      <th>Latitude</th>\n",
              "      <th>Longitude</th>\n",
              "    </tr>\n",
              "  </thead>\n",
              "  <tbody>\n",
              "    <tr>\n",
              "      <th>13121</th>\n",
              "      <td>8.38672e+08</td>\n",
              "      <td>24.602</td>\n",
              "      <td>122.2820</td>\n",
              "    </tr>\n",
              "    <tr>\n",
              "      <th>17921</th>\n",
              "      <td>1.15118e+09</td>\n",
              "      <td>-0.390</td>\n",
              "      <td>123.1950</td>\n",
              "    </tr>\n",
              "    <tr>\n",
              "      <th>3419</th>\n",
              "      <td>1.65667e+08</td>\n",
              "      <td>-23.022</td>\n",
              "      <td>-175.1120</td>\n",
              "    </tr>\n",
              "    <tr>\n",
              "      <th>20803</th>\n",
              "      <td>1.30621e+09</td>\n",
              "      <td>39.709</td>\n",
              "      <td>143.2470</td>\n",
              "    </tr>\n",
              "    <tr>\n",
              "      <th>15057</th>\n",
              "      <td>9.72071e+08</td>\n",
              "      <td>-4.623</td>\n",
              "      <td>-106.0440</td>\n",
              "    </tr>\n",
              "    <tr>\n",
              "      <th>...</th>\n",
              "      <td>...</td>\n",
              "      <td>...</td>\n",
              "      <td>...</td>\n",
              "    </tr>\n",
              "    <tr>\n",
              "      <th>10828</th>\n",
              "      <td>7.02013e+08</td>\n",
              "      <td>-49.872</td>\n",
              "      <td>-113.7440</td>\n",
              "    </tr>\n",
              "    <tr>\n",
              "      <th>22412</th>\n",
              "      <td>1.41309e+09</td>\n",
              "      <td>57.282</td>\n",
              "      <td>-33.2667</td>\n",
              "    </tr>\n",
              "    <tr>\n",
              "      <th>18333</th>\n",
              "      <td>1.17478e+09</td>\n",
              "      <td>-20.754</td>\n",
              "      <td>169.3540</td>\n",
              "    </tr>\n",
              "    <tr>\n",
              "      <th>11266</th>\n",
              "      <td>7.25493e+08</td>\n",
              "      <td>-6.087</td>\n",
              "      <td>113.0500</td>\n",
              "    </tr>\n",
              "    <tr>\n",
              "      <th>9152</th>\n",
              "      <td>5.88703e+08</td>\n",
              "      <td>-15.864</td>\n",
              "      <td>-172.0670</td>\n",
              "    </tr>\n",
              "  </tbody>\n",
              "</table>\n",
              "<p>4682 rows × 3 columns</p>\n",
              "</div>"
            ],
            "text/plain": [
              "         Timestamp  Latitude  Longitude\n",
              "13121  8.38672e+08    24.602   122.2820\n",
              "17921  1.15118e+09    -0.390   123.1950\n",
              "3419   1.65667e+08   -23.022  -175.1120\n",
              "20803  1.30621e+09    39.709   143.2470\n",
              "15057  9.72071e+08    -4.623  -106.0440\n",
              "...            ...       ...        ...\n",
              "10828  7.02013e+08   -49.872  -113.7440\n",
              "22412  1.41309e+09    57.282   -33.2667\n",
              "18333  1.17478e+09   -20.754   169.3540\n",
              "11266  7.25493e+08    -6.087   113.0500\n",
              "9152   5.88703e+08   -15.864  -172.0670\n",
              "\n",
              "[4682 rows x 3 columns]"
            ]
          },
          "metadata": {
            "tags": []
          },
          "execution_count": 20
        }
      ]
    },
    {
      "cell_type": "code",
      "metadata": {
        "id": "VreZkNCNQLXp",
        "colab_type": "code",
        "colab": {
          "base_uri": "https://localhost:8080/",
          "height": 88
        },
        "outputId": "92d1d2ad-c9ad-4314-d136-cb15c0751873"
      },
      "source": [
        "reg.score(X_test, y_test)"
      ],
      "execution_count": null,
      "outputs": [
        {
          "output_type": "stream",
          "text": [
            "/usr/local/lib/python3.6/dist-packages/sklearn/base.py:434: FutureWarning: The default value of multioutput (not exposed in score method) will change from 'variance_weighted' to 'uniform_average' in 0.23 to keep consistent with 'metrics.r2_score'. To specify the default value manually and avoid the warning, please either call 'metrics.r2_score' directly or make a custom scorer with 'metrics.make_scorer' (the built-in scorer 'r2' uses multioutput='uniform_average').\n",
            "  \"multioutput='uniform_average').\", FutureWarning)\n"
          ],
          "name": "stderr"
        },
        {
          "output_type": "execute_result",
          "data": {
            "text/plain": [
              "0.8718589768124286"
            ]
          },
          "metadata": {
            "tags": []
          },
          "execution_count": 21
        }
      ]
    },
    {
      "cell_type": "code",
      "metadata": {
        "id": "TjomUVOcQOHf",
        "colab_type": "code",
        "colab": {
          "base_uri": "https://localhost:8080/",
          "height": 1000
        },
        "outputId": "4af00ac2-b892-4cf2-9197-c3eb67d45a77"
      },
      "source": [
        "from sklearn.model_selection import GridSearchCV\n",
        "\n",
        "parameters = {'n_estimators':[10, 20, 50, 100, 200, 500]}\n",
        "\n",
        "grid_obj = GridSearchCV(reg, parameters)\n",
        "grid_fit = grid_obj.fit(X_train, y_train)\n",
        "best_fit = grid_fit.best_estimator_\n",
        "best_fit.predict(X_test)"
      ],
      "execution_count": null,
      "outputs": [
        {
          "output_type": "stream",
          "text": [
            "/usr/local/lib/python3.6/dist-packages/sklearn/base.py:434: FutureWarning: The default value of multioutput (not exposed in score method) will change from 'variance_weighted' to 'uniform_average' in 0.23 to keep consistent with 'metrics.r2_score'. To specify the default value manually and avoid the warning, please either call 'metrics.r2_score' directly or make a custom scorer with 'metrics.make_scorer' (the built-in scorer 'r2' uses multioutput='uniform_average').\n",
            "  \"multioutput='uniform_average').\", FutureWarning)\n",
            "/usr/local/lib/python3.6/dist-packages/sklearn/base.py:434: FutureWarning: The default value of multioutput (not exposed in score method) will change from 'variance_weighted' to 'uniform_average' in 0.23 to keep consistent with 'metrics.r2_score'. To specify the default value manually and avoid the warning, please either call 'metrics.r2_score' directly or make a custom scorer with 'metrics.make_scorer' (the built-in scorer 'r2' uses multioutput='uniform_average').\n",
            "  \"multioutput='uniform_average').\", FutureWarning)\n",
            "/usr/local/lib/python3.6/dist-packages/sklearn/base.py:434: FutureWarning: The default value of multioutput (not exposed in score method) will change from 'variance_weighted' to 'uniform_average' in 0.23 to keep consistent with 'metrics.r2_score'. To specify the default value manually and avoid the warning, please either call 'metrics.r2_score' directly or make a custom scorer with 'metrics.make_scorer' (the built-in scorer 'r2' uses multioutput='uniform_average').\n",
            "  \"multioutput='uniform_average').\", FutureWarning)\n",
            "/usr/local/lib/python3.6/dist-packages/sklearn/base.py:434: FutureWarning: The default value of multioutput (not exposed in score method) will change from 'variance_weighted' to 'uniform_average' in 0.23 to keep consistent with 'metrics.r2_score'. To specify the default value manually and avoid the warning, please either call 'metrics.r2_score' directly or make a custom scorer with 'metrics.make_scorer' (the built-in scorer 'r2' uses multioutput='uniform_average').\n",
            "  \"multioutput='uniform_average').\", FutureWarning)\n",
            "/usr/local/lib/python3.6/dist-packages/sklearn/base.py:434: FutureWarning: The default value of multioutput (not exposed in score method) will change from 'variance_weighted' to 'uniform_average' in 0.23 to keep consistent with 'metrics.r2_score'. To specify the default value manually and avoid the warning, please either call 'metrics.r2_score' directly or make a custom scorer with 'metrics.make_scorer' (the built-in scorer 'r2' uses multioutput='uniform_average').\n",
            "  \"multioutput='uniform_average').\", FutureWarning)\n",
            "/usr/local/lib/python3.6/dist-packages/sklearn/base.py:434: FutureWarning: The default value of multioutput (not exposed in score method) will change from 'variance_weighted' to 'uniform_average' in 0.23 to keep consistent with 'metrics.r2_score'. To specify the default value manually and avoid the warning, please either call 'metrics.r2_score' directly or make a custom scorer with 'metrics.make_scorer' (the built-in scorer 'r2' uses multioutput='uniform_average').\n",
            "  \"multioutput='uniform_average').\", FutureWarning)\n",
            "/usr/local/lib/python3.6/dist-packages/sklearn/base.py:434: FutureWarning: The default value of multioutput (not exposed in score method) will change from 'variance_weighted' to 'uniform_average' in 0.23 to keep consistent with 'metrics.r2_score'. To specify the default value manually and avoid the warning, please either call 'metrics.r2_score' directly or make a custom scorer with 'metrics.make_scorer' (the built-in scorer 'r2' uses multioutput='uniform_average').\n",
            "  \"multioutput='uniform_average').\", FutureWarning)\n",
            "/usr/local/lib/python3.6/dist-packages/sklearn/base.py:434: FutureWarning: The default value of multioutput (not exposed in score method) will change from 'variance_weighted' to 'uniform_average' in 0.23 to keep consistent with 'metrics.r2_score'. To specify the default value manually and avoid the warning, please either call 'metrics.r2_score' directly or make a custom scorer with 'metrics.make_scorer' (the built-in scorer 'r2' uses multioutput='uniform_average').\n",
            "  \"multioutput='uniform_average').\", FutureWarning)\n",
            "/usr/local/lib/python3.6/dist-packages/sklearn/base.py:434: FutureWarning: The default value of multioutput (not exposed in score method) will change from 'variance_weighted' to 'uniform_average' in 0.23 to keep consistent with 'metrics.r2_score'. To specify the default value manually and avoid the warning, please either call 'metrics.r2_score' directly or make a custom scorer with 'metrics.make_scorer' (the built-in scorer 'r2' uses multioutput='uniform_average').\n",
            "  \"multioutput='uniform_average').\", FutureWarning)\n",
            "/usr/local/lib/python3.6/dist-packages/sklearn/base.py:434: FutureWarning: The default value of multioutput (not exposed in score method) will change from 'variance_weighted' to 'uniform_average' in 0.23 to keep consistent with 'metrics.r2_score'. To specify the default value manually and avoid the warning, please either call 'metrics.r2_score' directly or make a custom scorer with 'metrics.make_scorer' (the built-in scorer 'r2' uses multioutput='uniform_average').\n",
            "  \"multioutput='uniform_average').\", FutureWarning)\n",
            "/usr/local/lib/python3.6/dist-packages/sklearn/base.py:434: FutureWarning: The default value of multioutput (not exposed in score method) will change from 'variance_weighted' to 'uniform_average' in 0.23 to keep consistent with 'metrics.r2_score'. To specify the default value manually and avoid the warning, please either call 'metrics.r2_score' directly or make a custom scorer with 'metrics.make_scorer' (the built-in scorer 'r2' uses multioutput='uniform_average').\n",
            "  \"multioutput='uniform_average').\", FutureWarning)\n",
            "/usr/local/lib/python3.6/dist-packages/sklearn/base.py:434: FutureWarning: The default value of multioutput (not exposed in score method) will change from 'variance_weighted' to 'uniform_average' in 0.23 to keep consistent with 'metrics.r2_score'. To specify the default value manually and avoid the warning, please either call 'metrics.r2_score' directly or make a custom scorer with 'metrics.make_scorer' (the built-in scorer 'r2' uses multioutput='uniform_average').\n",
            "  \"multioutput='uniform_average').\", FutureWarning)\n",
            "/usr/local/lib/python3.6/dist-packages/sklearn/base.py:434: FutureWarning: The default value of multioutput (not exposed in score method) will change from 'variance_weighted' to 'uniform_average' in 0.23 to keep consistent with 'metrics.r2_score'. To specify the default value manually and avoid the warning, please either call 'metrics.r2_score' directly or make a custom scorer with 'metrics.make_scorer' (the built-in scorer 'r2' uses multioutput='uniform_average').\n",
            "  \"multioutput='uniform_average').\", FutureWarning)\n",
            "/usr/local/lib/python3.6/dist-packages/sklearn/base.py:434: FutureWarning: The default value of multioutput (not exposed in score method) will change from 'variance_weighted' to 'uniform_average' in 0.23 to keep consistent with 'metrics.r2_score'. To specify the default value manually and avoid the warning, please either call 'metrics.r2_score' directly or make a custom scorer with 'metrics.make_scorer' (the built-in scorer 'r2' uses multioutput='uniform_average').\n",
            "  \"multioutput='uniform_average').\", FutureWarning)\n",
            "/usr/local/lib/python3.6/dist-packages/sklearn/base.py:434: FutureWarning: The default value of multioutput (not exposed in score method) will change from 'variance_weighted' to 'uniform_average' in 0.23 to keep consistent with 'metrics.r2_score'. To specify the default value manually and avoid the warning, please either call 'metrics.r2_score' directly or make a custom scorer with 'metrics.make_scorer' (the built-in scorer 'r2' uses multioutput='uniform_average').\n",
            "  \"multioutput='uniform_average').\", FutureWarning)\n",
            "/usr/local/lib/python3.6/dist-packages/sklearn/base.py:434: FutureWarning: The default value of multioutput (not exposed in score method) will change from 'variance_weighted' to 'uniform_average' in 0.23 to keep consistent with 'metrics.r2_score'. To specify the default value manually and avoid the warning, please either call 'metrics.r2_score' directly or make a custom scorer with 'metrics.make_scorer' (the built-in scorer 'r2' uses multioutput='uniform_average').\n",
            "  \"multioutput='uniform_average').\", FutureWarning)\n",
            "/usr/local/lib/python3.6/dist-packages/sklearn/base.py:434: FutureWarning: The default value of multioutput (not exposed in score method) will change from 'variance_weighted' to 'uniform_average' in 0.23 to keep consistent with 'metrics.r2_score'. To specify the default value manually and avoid the warning, please either call 'metrics.r2_score' directly or make a custom scorer with 'metrics.make_scorer' (the built-in scorer 'r2' uses multioutput='uniform_average').\n",
            "  \"multioutput='uniform_average').\", FutureWarning)\n",
            "/usr/local/lib/python3.6/dist-packages/sklearn/base.py:434: FutureWarning: The default value of multioutput (not exposed in score method) will change from 'variance_weighted' to 'uniform_average' in 0.23 to keep consistent with 'metrics.r2_score'. To specify the default value manually and avoid the warning, please either call 'metrics.r2_score' directly or make a custom scorer with 'metrics.make_scorer' (the built-in scorer 'r2' uses multioutput='uniform_average').\n",
            "  \"multioutput='uniform_average').\", FutureWarning)\n",
            "/usr/local/lib/python3.6/dist-packages/sklearn/base.py:434: FutureWarning: The default value of multioutput (not exposed in score method) will change from 'variance_weighted' to 'uniform_average' in 0.23 to keep consistent with 'metrics.r2_score'. To specify the default value manually and avoid the warning, please either call 'metrics.r2_score' directly or make a custom scorer with 'metrics.make_scorer' (the built-in scorer 'r2' uses multioutput='uniform_average').\n",
            "  \"multioutput='uniform_average').\", FutureWarning)\n",
            "/usr/local/lib/python3.6/dist-packages/sklearn/base.py:434: FutureWarning: The default value of multioutput (not exposed in score method) will change from 'variance_weighted' to 'uniform_average' in 0.23 to keep consistent with 'metrics.r2_score'. To specify the default value manually and avoid the warning, please either call 'metrics.r2_score' directly or make a custom scorer with 'metrics.make_scorer' (the built-in scorer 'r2' uses multioutput='uniform_average').\n",
            "  \"multioutput='uniform_average').\", FutureWarning)\n",
            "/usr/local/lib/python3.6/dist-packages/sklearn/base.py:434: FutureWarning: The default value of multioutput (not exposed in score method) will change from 'variance_weighted' to 'uniform_average' in 0.23 to keep consistent with 'metrics.r2_score'. To specify the default value manually and avoid the warning, please either call 'metrics.r2_score' directly or make a custom scorer with 'metrics.make_scorer' (the built-in scorer 'r2' uses multioutput='uniform_average').\n",
            "  \"multioutput='uniform_average').\", FutureWarning)\n",
            "/usr/local/lib/python3.6/dist-packages/sklearn/base.py:434: FutureWarning: The default value of multioutput (not exposed in score method) will change from 'variance_weighted' to 'uniform_average' in 0.23 to keep consistent with 'metrics.r2_score'. To specify the default value manually and avoid the warning, please either call 'metrics.r2_score' directly or make a custom scorer with 'metrics.make_scorer' (the built-in scorer 'r2' uses multioutput='uniform_average').\n",
            "  \"multioutput='uniform_average').\", FutureWarning)\n",
            "/usr/local/lib/python3.6/dist-packages/sklearn/base.py:434: FutureWarning: The default value of multioutput (not exposed in score method) will change from 'variance_weighted' to 'uniform_average' in 0.23 to keep consistent with 'metrics.r2_score'. To specify the default value manually and avoid the warning, please either call 'metrics.r2_score' directly or make a custom scorer with 'metrics.make_scorer' (the built-in scorer 'r2' uses multioutput='uniform_average').\n",
            "  \"multioutput='uniform_average').\", FutureWarning)\n",
            "/usr/local/lib/python3.6/dist-packages/sklearn/base.py:434: FutureWarning: The default value of multioutput (not exposed in score method) will change from 'variance_weighted' to 'uniform_average' in 0.23 to keep consistent with 'metrics.r2_score'. To specify the default value manually and avoid the warning, please either call 'metrics.r2_score' directly or make a custom scorer with 'metrics.make_scorer' (the built-in scorer 'r2' uses multioutput='uniform_average').\n",
            "  \"multioutput='uniform_average').\", FutureWarning)\n",
            "/usr/local/lib/python3.6/dist-packages/sklearn/base.py:434: FutureWarning: The default value of multioutput (not exposed in score method) will change from 'variance_weighted' to 'uniform_average' in 0.23 to keep consistent with 'metrics.r2_score'. To specify the default value manually and avoid the warning, please either call 'metrics.r2_score' directly or make a custom scorer with 'metrics.make_scorer' (the built-in scorer 'r2' uses multioutput='uniform_average').\n",
            "  \"multioutput='uniform_average').\", FutureWarning)\n",
            "/usr/local/lib/python3.6/dist-packages/sklearn/base.py:434: FutureWarning: The default value of multioutput (not exposed in score method) will change from 'variance_weighted' to 'uniform_average' in 0.23 to keep consistent with 'metrics.r2_score'. To specify the default value manually and avoid the warning, please either call 'metrics.r2_score' directly or make a custom scorer with 'metrics.make_scorer' (the built-in scorer 'r2' uses multioutput='uniform_average').\n",
            "  \"multioutput='uniform_average').\", FutureWarning)\n",
            "/usr/local/lib/python3.6/dist-packages/sklearn/base.py:434: FutureWarning: The default value of multioutput (not exposed in score method) will change from 'variance_weighted' to 'uniform_average' in 0.23 to keep consistent with 'metrics.r2_score'. To specify the default value manually and avoid the warning, please either call 'metrics.r2_score' directly or make a custom scorer with 'metrics.make_scorer' (the built-in scorer 'r2' uses multioutput='uniform_average').\n",
            "  \"multioutput='uniform_average').\", FutureWarning)\n",
            "/usr/local/lib/python3.6/dist-packages/sklearn/base.py:434: FutureWarning: The default value of multioutput (not exposed in score method) will change from 'variance_weighted' to 'uniform_average' in 0.23 to keep consistent with 'metrics.r2_score'. To specify the default value manually and avoid the warning, please either call 'metrics.r2_score' directly or make a custom scorer with 'metrics.make_scorer' (the built-in scorer 'r2' uses multioutput='uniform_average').\n",
            "  \"multioutput='uniform_average').\", FutureWarning)\n",
            "/usr/local/lib/python3.6/dist-packages/sklearn/base.py:434: FutureWarning: The default value of multioutput (not exposed in score method) will change from 'variance_weighted' to 'uniform_average' in 0.23 to keep consistent with 'metrics.r2_score'. To specify the default value manually and avoid the warning, please either call 'metrics.r2_score' directly or make a custom scorer with 'metrics.make_scorer' (the built-in scorer 'r2' uses multioutput='uniform_average').\n",
            "  \"multioutput='uniform_average').\", FutureWarning)\n",
            "/usr/local/lib/python3.6/dist-packages/sklearn/base.py:434: FutureWarning: The default value of multioutput (not exposed in score method) will change from 'variance_weighted' to 'uniform_average' in 0.23 to keep consistent with 'metrics.r2_score'. To specify the default value manually and avoid the warning, please either call 'metrics.r2_score' directly or make a custom scorer with 'metrics.make_scorer' (the built-in scorer 'r2' uses multioutput='uniform_average').\n",
            "  \"multioutput='uniform_average').\", FutureWarning)\n"
          ],
          "name": "stderr"
        },
        {
          "output_type": "execute_result",
          "data": {
            "text/plain": [
              "array([[  5.8888 ,  43.532  ],\n",
              "       [  5.8232 ,  31.71656],\n",
              "       [  6.0034 ,  39.3312 ],\n",
              "       ...,\n",
              "       [  6.3066 ,  23.9292 ],\n",
              "       [  5.9138 , 592.151  ],\n",
              "       [  5.7866 ,  38.9384 ]])"
            ]
          },
          "metadata": {
            "tags": []
          },
          "execution_count": 22
        }
      ]
    },
    {
      "cell_type": "code",
      "metadata": {
        "id": "LIEMTcDNTYHc",
        "colab_type": "code",
        "colab": {
          "base_uri": "https://localhost:8080/",
          "height": 88
        },
        "outputId": "bd7faf58-ea0f-47aa-ae61-b5e794351731"
      },
      "source": [
        "best_fit.score(X_test, y_test)\n"
      ],
      "execution_count": null,
      "outputs": [
        {
          "output_type": "stream",
          "text": [
            "/usr/local/lib/python3.6/dist-packages/sklearn/base.py:434: FutureWarning: The default value of multioutput (not exposed in score method) will change from 'variance_weighted' to 'uniform_average' in 0.23 to keep consistent with 'metrics.r2_score'. To specify the default value manually and avoid the warning, please either call 'metrics.r2_score' directly or make a custom scorer with 'metrics.make_scorer' (the built-in scorer 'r2' uses multioutput='uniform_average').\n",
            "  \"multioutput='uniform_average').\", FutureWarning)\n"
          ],
          "name": "stderr"
        },
        {
          "output_type": "execute_result",
          "data": {
            "text/plain": [
              "0.8748782808765546"
            ]
          },
          "metadata": {
            "tags": []
          },
          "execution_count": 23
        }
      ]
    },
    {
      "cell_type": "markdown",
      "metadata": {
        "id": "--9qBEvWTrhA",
        "colab_type": "text"
      },
      "source": [
        "Neural Network"
      ]
    },
    {
      "cell_type": "code",
      "metadata": {
        "id": "weDPjpJLTn5x",
        "colab_type": "code",
        "colab": {
          "base_uri": "https://localhost:8080/",
          "height": 80
        },
        "outputId": "48d4d042-9cb6-458b-98e1-6ffb5652b5ba"
      },
      "source": [
        "from keras.models import Sequential\n",
        "from keras.layers import Dense\n",
        "\n",
        "def create_model(neurons, activation, optimizer, loss):\n",
        "    model = Sequential()\n",
        "    model.add(Dense(neurons, activation=activation, input_shape=(3,)))\n",
        "    model.add(Dense(neurons, activation=activation))\n",
        "    model.add(Dense(2, activation='softmax'))\n",
        "    \n",
        "    model.compile(optimizer=optimizer, loss=loss, metrics=['accuracy'])\n",
        "    \n",
        "    return model"
      ],
      "execution_count": null,
      "outputs": [
        {
          "output_type": "stream",
          "text": [
            "Using TensorFlow backend.\n"
          ],
          "name": "stderr"
        },
        {
          "output_type": "display_data",
          "data": {
            "text/html": [
              "<p style=\"color: red;\">\n",
              "The default version of TensorFlow in Colab will soon switch to TensorFlow 2.x.<br>\n",
              "We recommend you <a href=\"https://www.tensorflow.org/guide/migrate\" target=\"_blank\">upgrade</a> now \n",
              "or ensure your notebook will continue to use TensorFlow 1.x via the <code>%tensorflow_version 1.x</code> magic:\n",
              "<a href=\"https://colab.research.google.com/notebooks/tensorflow_version.ipynb\" target=\"_blank\">more info</a>.</p>\n"
            ],
            "text/plain": [
              "<IPython.core.display.HTML object>"
            ]
          },
          "metadata": {
            "tags": []
          }
        }
      ]
    },
    {
      "cell_type": "code",
      "metadata": {
        "id": "BH0jjQ40UJez",
        "colab_type": "code",
        "colab": {}
      },
      "source": [
        "from keras.wrappers.scikit_learn import KerasClassifier\n",
        "\n",
        "model = KerasClassifier(build_fn=create_model, verbose=0)\n",
        "\n",
        "# neurons = [16, 64, 128, 256]\n",
        "neurons = [16]\n",
        "# batch_size = [10, 20, 50, 100]\n",
        "batch_size = [10]\n",
        "epochs = [10]\n",
        "# activation = ['relu', 'tanh', 'sigmoid', 'hard_sigmoid', 'linear', 'exponential']\n",
        "activation = ['sigmoid', 'relu']\n",
        "# optimizer = ['SGD', 'RMSprop', 'Adagrad', 'Adadelta', 'Adam', 'Adamax', 'Nadam']\n",
        "optimizer = ['SGD', 'Adadelta']\n",
        "loss = ['squared_hinge']\n",
        "\n",
        "param_grid = dict(neurons=neurons, batch_size=batch_size, epochs=epochs, activation=activation, optimizer=optimizer, loss=loss)"
      ],
      "execution_count": null,
      "outputs": []
    },
    {
      "cell_type": "code",
      "metadata": {
        "id": "87Iw8tXhULmQ",
        "colab_type": "code",
        "colab": {
          "base_uri": "https://localhost:8080/",
          "height": 561
        },
        "outputId": "b164c1e5-615d-42d4-e494-7b4c7d846cf8"
      },
      "source": [
        "grid = GridSearchCV(estimator=model, param_grid=param_grid, n_jobs=-1)\n",
        "grid_result = grid.fit(X_train, y_train)\n",
        "\n",
        "print(\"Best: %f using %s\" % (grid_result.best_score_, grid_result.best_params_))\n",
        "means = grid_result.cv_results_['mean_test_score']\n",
        "stds = grid_result.cv_results_['std_test_score']\n",
        "params = grid_result.cv_results_['params']\n",
        "for mean, stdev, param in zip(means, stds, params):\n",
        "    print(\"%f (%f) with: %r\" % (mean, stdev, param))"
      ],
      "execution_count": null,
      "outputs": [
        {
          "output_type": "stream",
          "text": [
            "WARNING:tensorflow:From /usr/local/lib/python3.6/dist-packages/keras/backend/tensorflow_backend.py:66: The name tf.get_default_graph is deprecated. Please use tf.compat.v1.get_default_graph instead.\n",
            "\n",
            "WARNING:tensorflow:From /usr/local/lib/python3.6/dist-packages/keras/backend/tensorflow_backend.py:541: The name tf.placeholder is deprecated. Please use tf.compat.v1.placeholder instead.\n",
            "\n",
            "WARNING:tensorflow:From /usr/local/lib/python3.6/dist-packages/keras/backend/tensorflow_backend.py:4432: The name tf.random_uniform is deprecated. Please use tf.random.uniform instead.\n",
            "\n",
            "WARNING:tensorflow:From /usr/local/lib/python3.6/dist-packages/keras/optimizers.py:793: The name tf.train.Optimizer is deprecated. Please use tf.compat.v1.train.Optimizer instead.\n",
            "\n",
            "WARNING:tensorflow:From /usr/local/lib/python3.6/dist-packages/tensorflow_core/python/ops/math_grad.py:1424: where (from tensorflow.python.ops.array_ops) is deprecated and will be removed in a future version.\n",
            "Instructions for updating:\n",
            "Use tf.where in 2.0, which has the same broadcast rule as np.where\n",
            "WARNING:tensorflow:From /usr/local/lib/python3.6/dist-packages/keras/backend/tensorflow_backend.py:1033: The name tf.assign_add is deprecated. Please use tf.compat.v1.assign_add instead.\n",
            "\n",
            "WARNING:tensorflow:From /usr/local/lib/python3.6/dist-packages/keras/backend/tensorflow_backend.py:1020: The name tf.assign is deprecated. Please use tf.compat.v1.assign instead.\n",
            "\n",
            "WARNING:tensorflow:From /usr/local/lib/python3.6/dist-packages/keras/backend/tensorflow_backend.py:3005: The name tf.Session is deprecated. Please use tf.compat.v1.Session instead.\n",
            "\n",
            "WARNING:tensorflow:From /usr/local/lib/python3.6/dist-packages/keras/backend/tensorflow_backend.py:190: The name tf.get_default_session is deprecated. Please use tf.compat.v1.get_default_session instead.\n",
            "\n",
            "WARNING:tensorflow:From /usr/local/lib/python3.6/dist-packages/keras/backend/tensorflow_backend.py:197: The name tf.ConfigProto is deprecated. Please use tf.compat.v1.ConfigProto instead.\n",
            "\n",
            "WARNING:tensorflow:From /usr/local/lib/python3.6/dist-packages/keras/backend/tensorflow_backend.py:207: The name tf.global_variables is deprecated. Please use tf.compat.v1.global_variables instead.\n",
            "\n",
            "WARNING:tensorflow:From /usr/local/lib/python3.6/dist-packages/keras/backend/tensorflow_backend.py:216: The name tf.is_variable_initialized is deprecated. Please use tf.compat.v1.is_variable_initialized instead.\n",
            "\n",
            "WARNING:tensorflow:From /usr/local/lib/python3.6/dist-packages/keras/backend/tensorflow_backend.py:223: The name tf.variables_initializer is deprecated. Please use tf.compat.v1.variables_initializer instead.\n",
            "\n",
            "Best: 0.800270 using {'activation': 'sigmoid', 'batch_size': 10, 'epochs': 10, 'loss': 'squared_hinge', 'neurons': 16, 'optimizer': 'SGD'}\n",
            "0.800270 (0.367757) with: {'activation': 'sigmoid', 'batch_size': 10, 'epochs': 10, 'loss': 'squared_hinge', 'neurons': 16, 'optimizer': 'SGD'}\n",
            "0.000000 (0.000000) with: {'activation': 'sigmoid', 'batch_size': 10, 'epochs': 10, 'loss': 'squared_hinge', 'neurons': 16, 'optimizer': 'Adadelta'}\n",
            "0.400274 (0.439178) with: {'activation': 'relu', 'batch_size': 10, 'epochs': 10, 'loss': 'squared_hinge', 'neurons': 16, 'optimizer': 'SGD'}\n",
            "0.586976 (0.455709) with: {'activation': 'relu', 'batch_size': 10, 'epochs': 10, 'loss': 'squared_hinge', 'neurons': 16, 'optimizer': 'Adadelta'}\n"
          ],
          "name": "stdout"
        }
      ]
    },
    {
      "cell_type": "markdown",
      "metadata": {
        "id": "nenxV63kYWT1",
        "colab_type": "text"
      },
      "source": [
        "Training & Test Data"
      ]
    },
    {
      "cell_type": "code",
      "metadata": {
        "id": "f4UHSPlxYPnY",
        "colab_type": "code",
        "colab": {}
      },
      "source": [
        "model = Sequential()\n",
        "model.add(Dense(16, activation='relu', input_shape=(3,)))\n",
        "model.add(Dense(16, activation='relu'))\n",
        "model.add(Dense(2, activation='softmax'))\n",
        "\n",
        "model.compile(optimizer='SGD', loss='squared_hinge', metrics=['accuracy'])"
      ],
      "execution_count": null,
      "outputs": []
    },
    {
      "cell_type": "code",
      "metadata": {
        "id": "w5uQfSKSYdin",
        "colab_type": "code",
        "colab": {
          "base_uri": "https://localhost:8080/",
          "height": 731
        },
        "outputId": "4af8d1cb-50ba-48b0-f2b8-f7ffb5c3b249"
      },
      "source": [
        "model.fit(X_train, y_train, batch_size=10, epochs=20, verbose=1, validation_data=(X_test, y_test))"
      ],
      "execution_count": null,
      "outputs": [
        {
          "output_type": "stream",
          "text": [
            "Train on 18727 samples, validate on 4682 samples\n",
            "Epoch 1/20\n",
            "18727/18727 [==============================] - 2s 130us/step - loss: 0.5038 - acc: 0.9182 - val_loss: 0.5038 - val_acc: 0.9242\n",
            "Epoch 2/20\n",
            "18727/18727 [==============================] - 2s 121us/step - loss: 0.5038 - acc: 0.9182 - val_loss: 0.5038 - val_acc: 0.9242\n",
            "Epoch 3/20\n",
            "18727/18727 [==============================] - 2s 124us/step - loss: 0.5038 - acc: 0.9182 - val_loss: 0.5038 - val_acc: 0.9242\n",
            "Epoch 4/20\n",
            "18727/18727 [==============================] - 2s 127us/step - loss: 0.5038 - acc: 0.9182 - val_loss: 0.5038 - val_acc: 0.9242\n",
            "Epoch 5/20\n",
            "18727/18727 [==============================] - 2s 124us/step - loss: 0.5038 - acc: 0.9182 - val_loss: 0.5038 - val_acc: 0.9242\n",
            "Epoch 6/20\n",
            "18727/18727 [==============================] - 2s 129us/step - loss: 0.5038 - acc: 0.9182 - val_loss: 0.5038 - val_acc: 0.9242\n",
            "Epoch 7/20\n",
            "18727/18727 [==============================] - 2s 127us/step - loss: 0.5038 - acc: 0.9182 - val_loss: 0.5038 - val_acc: 0.9242\n",
            "Epoch 8/20\n",
            "18727/18727 [==============================] - 2s 124us/step - loss: 0.5038 - acc: 0.9182 - val_loss: 0.5038 - val_acc: 0.9242\n",
            "Epoch 9/20\n",
            "18727/18727 [==============================] - 2s 125us/step - loss: 0.5038 - acc: 0.9182 - val_loss: 0.5038 - val_acc: 0.9242\n",
            "Epoch 10/20\n",
            "18727/18727 [==============================] - 2s 121us/step - loss: 0.5038 - acc: 0.9182 - val_loss: 0.5038 - val_acc: 0.9242\n",
            "Epoch 11/20\n",
            "18727/18727 [==============================] - 2s 124us/step - loss: 0.5038 - acc: 0.9182 - val_loss: 0.5038 - val_acc: 0.9242\n",
            "Epoch 12/20\n",
            "18727/18727 [==============================] - 2s 127us/step - loss: 0.5038 - acc: 0.9182 - val_loss: 0.5038 - val_acc: 0.9242\n",
            "Epoch 13/20\n",
            "18727/18727 [==============================] - 2s 125us/step - loss: 0.5038 - acc: 0.9182 - val_loss: 0.5038 - val_acc: 0.9242\n",
            "Epoch 14/20\n",
            "18727/18727 [==============================] - 2s 128us/step - loss: 0.5038 - acc: 0.9182 - val_loss: 0.5038 - val_acc: 0.9242\n",
            "Epoch 15/20\n",
            "18727/18727 [==============================] - 2s 124us/step - loss: 0.5038 - acc: 0.9182 - val_loss: 0.5038 - val_acc: 0.9242\n",
            "Epoch 16/20\n",
            "18727/18727 [==============================] - 2s 124us/step - loss: 0.5038 - acc: 0.9182 - val_loss: 0.5038 - val_acc: 0.9242\n",
            "Epoch 17/20\n",
            "18727/18727 [==============================] - 2s 126us/step - loss: 0.5038 - acc: 0.9182 - val_loss: 0.5038 - val_acc: 0.9242\n",
            "Epoch 18/20\n",
            "18727/18727 [==============================] - 2s 123us/step - loss: 0.5038 - acc: 0.9182 - val_loss: 0.5038 - val_acc: 0.9242\n",
            "Epoch 19/20\n",
            "18727/18727 [==============================] - 2s 124us/step - loss: 0.5038 - acc: 0.9182 - val_loss: 0.5038 - val_acc: 0.9242\n",
            "Epoch 20/20\n",
            "18727/18727 [==============================] - 2s 126us/step - loss: 0.5038 - acc: 0.9182 - val_loss: 0.5038 - val_acc: 0.9242\n"
          ],
          "name": "stdout"
        },
        {
          "output_type": "execute_result",
          "data": {
            "text/plain": [
              "<keras.callbacks.History at 0x7f21f1919358>"
            ]
          },
          "metadata": {
            "tags": []
          },
          "execution_count": 28
        }
      ]
    },
    {
      "cell_type": "code",
      "metadata": {
        "id": "AFizeMjjYrX9",
        "colab_type": "code",
        "colab": {
          "base_uri": "https://localhost:8080/",
          "height": 51
        },
        "outputId": "753cbb75-924b-496b-e189-894904fb1968"
      },
      "source": [
        "[test_loss, test_acc] = model.evaluate(X_test, y_test)\n",
        "print(\"Evaluation result on Test Data : Loss = {}, accuracy = {}\".format(test_loss, test_acc))"
      ],
      "execution_count": null,
      "outputs": [
        {
          "output_type": "stream",
          "text": [
            "4682/4682 [==============================] - 0s 18us/step\n",
            "Evaluation result on Test Data : Loss = 0.5038455790406056, accuracy = 0.9241777017858995\n"
          ],
          "name": "stdout"
        }
      ]
    },
    {
      "cell_type": "code",
      "metadata": {
        "id": "UiD8FINz8ilC",
        "colab_type": "code",
        "colab": {
          "base_uri": "https://localhost:8080/",
          "height": 419
        },
        "outputId": "afbd5dc8-e46f-4417-cc09-8308c3446259"
      },
      "source": [
        "final_data"
      ],
      "execution_count": null,
      "outputs": [
        {
          "output_type": "execute_result",
          "data": {
            "text/html": [
              "<div>\n",
              "<style scoped>\n",
              "    .dataframe tbody tr th:only-of-type {\n",
              "        vertical-align: middle;\n",
              "    }\n",
              "\n",
              "    .dataframe tbody tr th {\n",
              "        vertical-align: top;\n",
              "    }\n",
              "\n",
              "    .dataframe thead th {\n",
              "        text-align: right;\n",
              "    }\n",
              "</style>\n",
              "<table border=\"1\" class=\"dataframe\">\n",
              "  <thead>\n",
              "    <tr style=\"text-align: right;\">\n",
              "      <th></th>\n",
              "      <th>Latitude</th>\n",
              "      <th>Longitude</th>\n",
              "      <th>Depth</th>\n",
              "      <th>Magnitude</th>\n",
              "      <th>Timestamp</th>\n",
              "    </tr>\n",
              "  </thead>\n",
              "  <tbody>\n",
              "    <tr>\n",
              "      <th>0</th>\n",
              "      <td>19.2460</td>\n",
              "      <td>145.6160</td>\n",
              "      <td>131.60</td>\n",
              "      <td>6.0</td>\n",
              "      <td>-1.57631e+08</td>\n",
              "    </tr>\n",
              "    <tr>\n",
              "      <th>1</th>\n",
              "      <td>1.8630</td>\n",
              "      <td>127.3520</td>\n",
              "      <td>80.00</td>\n",
              "      <td>5.8</td>\n",
              "      <td>-1.57466e+08</td>\n",
              "    </tr>\n",
              "    <tr>\n",
              "      <th>2</th>\n",
              "      <td>-20.5790</td>\n",
              "      <td>-173.9720</td>\n",
              "      <td>20.00</td>\n",
              "      <td>6.2</td>\n",
              "      <td>-1.57356e+08</td>\n",
              "    </tr>\n",
              "    <tr>\n",
              "      <th>3</th>\n",
              "      <td>-59.0760</td>\n",
              "      <td>-23.5570</td>\n",
              "      <td>15.00</td>\n",
              "      <td>5.8</td>\n",
              "      <td>-1.57094e+08</td>\n",
              "    </tr>\n",
              "    <tr>\n",
              "      <th>4</th>\n",
              "      <td>11.9380</td>\n",
              "      <td>126.4270</td>\n",
              "      <td>15.00</td>\n",
              "      <td>5.8</td>\n",
              "      <td>-1.57026e+08</td>\n",
              "    </tr>\n",
              "    <tr>\n",
              "      <th>...</th>\n",
              "      <td>...</td>\n",
              "      <td>...</td>\n",
              "      <td>...</td>\n",
              "      <td>...</td>\n",
              "      <td>...</td>\n",
              "    </tr>\n",
              "    <tr>\n",
              "      <th>23407</th>\n",
              "      <td>38.3917</td>\n",
              "      <td>-118.8941</td>\n",
              "      <td>12.30</td>\n",
              "      <td>5.6</td>\n",
              "      <td>1.48291e+09</td>\n",
              "    </tr>\n",
              "    <tr>\n",
              "      <th>23408</th>\n",
              "      <td>38.3777</td>\n",
              "      <td>-118.8957</td>\n",
              "      <td>8.80</td>\n",
              "      <td>5.5</td>\n",
              "      <td>1.48292e+09</td>\n",
              "    </tr>\n",
              "    <tr>\n",
              "      <th>23409</th>\n",
              "      <td>36.9179</td>\n",
              "      <td>140.4262</td>\n",
              "      <td>10.00</td>\n",
              "      <td>5.9</td>\n",
              "      <td>1.48293e+09</td>\n",
              "    </tr>\n",
              "    <tr>\n",
              "      <th>23410</th>\n",
              "      <td>-9.0283</td>\n",
              "      <td>118.6639</td>\n",
              "      <td>79.00</td>\n",
              "      <td>6.3</td>\n",
              "      <td>1.48305e+09</td>\n",
              "    </tr>\n",
              "    <tr>\n",
              "      <th>23411</th>\n",
              "      <td>37.3973</td>\n",
              "      <td>141.4103</td>\n",
              "      <td>11.94</td>\n",
              "      <td>5.5</td>\n",
              "      <td>1.48313e+09</td>\n",
              "    </tr>\n",
              "  </tbody>\n",
              "</table>\n",
              "<p>23409 rows × 5 columns</p>\n",
              "</div>"
            ],
            "text/plain": [
              "       Latitude  Longitude   Depth  Magnitude    Timestamp\n",
              "0       19.2460   145.6160  131.60        6.0 -1.57631e+08\n",
              "1        1.8630   127.3520   80.00        5.8 -1.57466e+08\n",
              "2      -20.5790  -173.9720   20.00        6.2 -1.57356e+08\n",
              "3      -59.0760   -23.5570   15.00        5.8 -1.57094e+08\n",
              "4       11.9380   126.4270   15.00        5.8 -1.57026e+08\n",
              "...         ...        ...     ...        ...          ...\n",
              "23407   38.3917  -118.8941   12.30        5.6  1.48291e+09\n",
              "23408   38.3777  -118.8957    8.80        5.5  1.48292e+09\n",
              "23409   36.9179   140.4262   10.00        5.9  1.48293e+09\n",
              "23410   -9.0283   118.6639   79.00        6.3  1.48305e+09\n",
              "23411   37.3973   141.4103   11.94        5.5  1.48313e+09\n",
              "\n",
              "[23409 rows x 5 columns]"
            ]
          },
          "metadata": {
            "tags": []
          },
          "execution_count": 30
        }
      ]
    },
    {
      "cell_type": "code",
      "metadata": {
        "id": "nq8AxRhmCITw",
        "colab_type": "code",
        "colab": {}
      },
      "source": [
        "model.save('earthquake.csv')"
      ],
      "execution_count": null,
      "outputs": []
    },
    {
      "cell_type": "code",
      "metadata": {
        "id": "GJIc3yRjwLk9",
        "colab_type": "code",
        "colab": {
          "base_uri": "https://localhost:8080/",
          "height": 34
        },
        "outputId": "7e4d2733-68f5-411a-dd64-702d9ff05201"
      },
      "source": [
        "print(model)"
      ],
      "execution_count": null,
      "outputs": [
        {
          "output_type": "stream",
          "text": [
            "<keras.engine.sequential.Sequential object at 0x7f223089e4a8>\n"
          ],
          "name": "stdout"
        }
      ]
    }
  ]
}